{
 "cells": [
  {
   "cell_type": "code",
   "execution_count": 1,
   "id": "f6a07c7f-7f19-48bf-b661-e0736e9975ad",
   "metadata": {},
   "outputs": [],
   "source": [
    "import os\n",
    "import scanpy as sc\n",
    "import torch\n",
    "import scvi\n",
    "import seaborn as sns\n",
    "import numpy as np\n",
    "import pandas as pd\n",
    "import matplotlib.pyplot as plt\n",
    "from scipy import stats\n",
    "from matplotlib.pyplot import rc_context\n",
    "from qc_doubletremoval import qc_doubletremoval\n",
    "from scipy.stats import median_abs_deviation as mad\n",
    "torch.set_float32_matmul_precision('medium')"
   ]
  },
  {
   "cell_type": "code",
   "execution_count": null,
   "id": "cf640c25-f85f-4912-ab05-073c2c0404bf",
   "metadata": {},
   "outputs": [],
   "source": [
    "#parameter selection\n",
    "accession_code = \"GSE225381\"\n",
    "folder_path = 'raw_files/'\n",
    "file_type = \"mtx\"\n",
    "organism = \"mouse\""
   ]
  },
  {
   "cell_type": "code",
   "execution_count": null,
   "id": "2347428a-924c-474a-8d53-31f24b021b5c",
   "metadata": {},
   "outputs": [],
   "source": [
    "# Define samples \n",
    "cirrhotic_samples = [\"GSM4041162\",\"GSM4041163\",\"GSM4041165\",\"GSM4041167\"]\n",
    "healthy_samples =[\"GSM4041151\",\"GSM4041152\",\"GSM4041154\",\"GSM4041156\",\"GSM4041157\",\"GSM4041159\"]"
   ]
  },
  {
   "cell_type": "code",
   "execution_count": null,
   "id": "a868353d-f1bd-4706-a368-199c0aa28119",
   "metadata": {
    "scrolled": true
   },
   "outputs": [],
   "source": [
    "out = []\n",
    "# Iterate over files in the folder\n",
    "for file in os.listdir(folder_path):\n",
    "    file_path = os.path.join(folder_path, file)\n",
    "    \n",
    "    # Call the qc_doubletremoval function for each file\n",
    "    processed_data = qc_doubletremoval(file_path,file_type, organism,sc,scvi,pd,np,mad, sns)\n",
    "    \n",
    "    # Add the 'Sample' annotation to the processed data\n",
    "    processed_data.obs['Sample'] = os.path.splitext(file)[0]\n",
    "    \n",
    "    # Append the processed data to the list\n",
    "    out.append(processed_data)"
   ]
  },
  {
   "cell_type": "code",
   "execution_count": null,
   "id": "db5875bd-7f66-4aa7-959d-79b0cae33d11",
   "metadata": {},
   "outputs": [],
   "source": [
    "adata = sc.concat(out)\n",
    "adata.obs_names_make_unique()\n",
    "del out"
   ]
  },
  {
   "cell_type": "code",
   "execution_count": null,
   "id": "7cbdae54-00fe-4d75-8419-4f7f65e07579",
   "metadata": {},
   "outputs": [],
   "source": [
    "from scipy.sparse import csr_matrix\n",
    "adata.X = csr_matrix(adata.X)\n",
    "adata"
   ]
  },
  {
   "cell_type": "code",
   "execution_count": null,
   "id": "cf724f59-ff60-44a7-bb56-eab59995dc7d",
   "metadata": {},
   "outputs": [],
   "source": [
    "# Add features\n",
    "adata.obs['Group'] = 'condition'\n",
    "adata.obs.loc[adata.obs['Sample'].isin(cirrhotic_samples), 'Group'] = 'cirrhotic'\n",
    "adata.obs.loc[adata.obs['Sample'].isin(healthy_samples), 'Group'] = 'healthy'\n",
    "\n",
    "adata.obs['Patient'] = 'patientinfo'\n",
    "adata.obs.loc[adata.obs['Sample'].isin([\"GSM4041151\",\"GSM4041152\"]), 'Patient'] = 'H1'\n",
    "adata.obs.loc[adata.obs['Sample'].isin([\"GSM4041154\"]), 'Patient'] = 'H2'\n",
    "adata.obs.loc[adata.obs['Sample'].isin([\"GSM4041156\",\"GSM4041157\"]), 'Patient'] = 'H3'\n",
    "adata.obs.loc[adata.obs['Sample'].isin([\"GSM4041159\"]), 'Patient'] = 'H4'\n",
    "adata.obs.loc[adata.obs['Sample'].isin([\"GSM4041162\",\"GSM4041163\"]), 'Patient'] = 'C1'\n",
    "adata.obs.loc[adata.obs['Sample'].isin([\"GSM4041165\"]), 'Patient'] = 'C2'\n",
    "adata.obs.loc[adata.obs['Sample'].isin([\"GSM4041167\"]), 'Patient'] = 'C3'\n",
    "\n",
    "adata.obs['Sex'] = 'sexinfo'\n",
    "adata.obs.loc[adata.obs['Sample'].isin([\"GSM4041151\",\"GSM4041152\",\"GSM4041154\",\"GSM4041156\",\n",
    "                                       \"GSM4041157\",\"GSM4041165\",\"GSM4041167\"]), 'Sex'] = 'male'\n",
    "adata.obs.loc[adata.obs['Sample'].isin([\"GSM4041159\",\"GSM4041162\",\"GSM4041163\"]), 'Sex'] = 'female'\n",
    "\n",
    "adata.obs['Cause'] = 'causeinfo'\n",
    "adata.obs.loc[adata.obs['Sample'].isin(healthy_samples), 'Cause'] = 'healthy'\n",
    "adata.obs.loc[adata.obs['Sample'].isin([\"GSM4041162\",\"GSM4041163\"]), 'Cause'] = 'nafld'\n",
    "adata.obs.loc[adata.obs['Sample'].isin([\"GSM4041165\",\"GSM4041167\"]), 'Cause'] = 'alcohol'"
   ]
  },
  {
   "cell_type": "code",
   "execution_count": null,
   "id": "2d8c0a95-73d6-4cc5-adeb-f62e292a0abc",
   "metadata": {},
   "outputs": [],
   "source": [
    "adata.obs.groupby('Sample').count()"
   ]
  },
  {
   "cell_type": "code",
   "execution_count": null,
   "id": "2ab62001-9df4-427d-81ab-a92122901434",
   "metadata": {},
   "outputs": [],
   "source": [
    "adata.obs.groupby('Group').count()"
   ]
  },
  {
   "cell_type": "code",
   "execution_count": null,
   "id": "483b9402-a43c-40a9-8a62-cbe200f26a4e",
   "metadata": {},
   "outputs": [],
   "source": [
    "adata.obs.groupby('Patient').count()"
   ]
  },
  {
   "cell_type": "code",
   "execution_count": null,
   "id": "61e3d800-0f39-412f-b3b7-ef612914b2bb",
   "metadata": {},
   "outputs": [],
   "source": [
    "adata = adata[adata.obs['Sample'] != 'GSM4041152']\n",
    "adata = adata[adata.obs['Sample'] != 'GSM4041151']\n",
    "adata = adata[adata.obs['Sample'] != 'GSM4041157']\n",
    "adata.obs.groupby('Group').count()"
   ]
  },
  {
   "cell_type": "code",
   "execution_count": null,
   "id": "495f1b9d-0792-44a6-b8e8-08298fad71b5",
   "metadata": {},
   "outputs": [],
   "source": [
    "adata.write_h5ad(accession_code+'_combined.h5ad')"
   ]
  }
 ],
 "metadata": {
  "kernelspec": {
   "display_name": "Python 3 (ipykernel)",
   "language": "python",
   "name": "python3"
  },
  "language_info": {
   "codemirror_mode": {
    "name": "ipython",
    "version": 3
   },
   "file_extension": ".py",
   "mimetype": "text/x-python",
   "name": "python",
   "nbconvert_exporter": "python",
   "pygments_lexer": "ipython3",
   "version": "3.11.7"
  }
 },
 "nbformat": 4,
 "nbformat_minor": 5
}
