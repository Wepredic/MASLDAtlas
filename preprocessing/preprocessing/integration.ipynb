{
 "cells": [
  {
   "cell_type": "code",
   "execution_count": 4,
   "id": "3fa29441-30af-4de1-b97c-56b1ca1b40ba",
   "metadata": {},
   "outputs": [],
   "source": [
    "import os\n",
    "import scvi\n",
    "import scanpy as sc\n",
    "import torch\n",
    "import scvi\n",
    "import seaborn as sns\n",
    "import numpy as np\n",
    "import pandas as pd\n",
    "import matplotlib.pyplot as plt\n",
    "from scipy import stats\n",
    "from matplotlib.pyplot import rc_context\n",
    "from scipy.stats import median_abs_deviation as mad\n",
    "torch.set_float32_matmul_precision('medium')"
   ]
  },
  {
   "cell_type": "code",
   "execution_count": 9,
   "id": "3ea77ca8-c6ad-421b-b47e-c758254f7f5e",
   "metadata": {},
   "outputs": [],
   "source": [
    "#gse136103_1 = sc.read_h5ad(\"combined_datasets/GSE136103_combined.h5ad\")\n",
    "#gse136103_1.obs['Isolation'] = 'CD 45-'\n",
    "#gse136103_2 = sc.read_h5ad(\"combined_datasets/GSE136103_pos_combined.h5ad\")\n",
    "#gse136103_2.obs['Isolation'] = 'CD 45+'\n",
    "#adata = sc.concat([gse136103_1,gse136103_2])\n",
    "#adata.obs_names_make_unique(join='_')\n",
    "#adata.var_names_make_unique(join='_')\n",
    "#del gse136103_1\n",
    "#del gse136103_2\n",
    "adata = sc.read_h5ad(\"combined_datasets/GSE225381_combined.h5ad\")"
   ]
  },
  {
   "cell_type": "code",
   "execution_count": 11,
   "id": "d03dce84-daa3-44bb-81c1-07d94cc1c2d5",
   "metadata": {},
   "outputs": [],
   "source": [
    "ribosomal_genes = pd.read_csv(\"mouse_ribosomal.csv\", header=None)\n",
    "ribosomal_genes = ribosomal_genes[0]\n",
    "mt_genes = [gene for gene in adata.var_names if gene.startswith('MT-')]\n",
    "\n",
    "# Remove ribosomal and mitochondrial genes\n",
    "ribosomal_genes = list(ribosomal_genes)\n",
    "mt_genes = list(mt_genes)\n",
    "genes_to_remove = ribosomal_genes + mt_genes\n",
    "adata = adata[:, ~adata.var_names.isin(genes_to_remove)].copy()"
   ]
  },
  {
   "cell_type": "code",
   "execution_count": 13,
   "id": "4de09564-f7fd-48a7-8323-e02f334c0752",
   "metadata": {},
   "outputs": [
    {
     "data": {
      "text/plain": [
       "AnnData object with n_obs × n_vars = 36821 × 17337\n",
       "    obs: 'n_genes_by_counts', 'log1p_n_genes_by_counts', 'total_counts', 'log1p_total_counts', 'pct_counts_in_top_20_genes', 'n_counts', 'total_counts_mt', 'log1p_total_counts_mt', 'pct_counts_mt', 'total_counts_ribo', 'log1p_total_counts_ribo', 'pct_counts_ribo', 'outlier', 'mt_outlier', 'doublet', 'Sample', 'Group', 'Diet', 'Time'"
      ]
     },
     "execution_count": 13,
     "metadata": {},
     "output_type": "execute_result"
    }
   ],
   "source": [
    "adata"
   ]
  },
  {
   "cell_type": "code",
   "execution_count": 15,
   "id": "dee00a1a-ee2b-4068-a097-d7ba44c97e57",
   "metadata": {},
   "outputs": [],
   "source": [
    "adata.layers['counts'] = adata.X.copy()\n",
    "adata.raw = adata\n",
    "sc.experimental.pp.highly_variable_genes(\n",
    "        adata, flavor=\"pearson_residuals\", batch_key = \"Sample\",n_top_genes=2000\n",
    "    )"
   ]
  },
  {
   "cell_type": "code",
   "execution_count": 17,
   "id": "fdaf754e-6488-4a60-b980-eb7a2366b513",
   "metadata": {},
   "outputs": [],
   "source": [
    "adata = adata[:, adata.var[\"highly_variable\"]].copy()"
   ]
  },
  {
   "cell_type": "code",
   "execution_count": 20,
   "id": "5464aa75-6897-4f00-93b3-2d22523a22ff",
   "metadata": {},
   "outputs": [],
   "source": [
    "scvi.model.SCVI.setup_anndata(adata, layer = \"counts\",\n",
    "                             batch_key = \"Sample\",\n",
    "                             categorical_covariate_keys=[\"Group\",\"Diet\"])"
   ]
  },
  {
   "cell_type": "code",
   "execution_count": 22,
   "id": "3c180697-fca6-4189-a2fd-619347989ecd",
   "metadata": {},
   "outputs": [
    {
     "data": {
      "text/html": [
       "<pre style=\"white-space:pre;overflow-x:auto;line-height:normal;font-family:Menlo,'DejaVu Sans Mono',consolas,'Courier New',monospace\">Anndata setup with scvi-tools version <span style=\"color: #008080; text-decoration-color: #008080; font-weight: bold\">1.1</span>.<span style=\"color: #008080; text-decoration-color: #008080; font-weight: bold\">6</span>.\n",
       "</pre>\n"
      ],
      "text/plain": [
       "Anndata setup with scvi-tools version \u001b[1;36m1.1\u001b[0m.\u001b[1;36m6\u001b[0m.\n"
      ]
     },
     "metadata": {},
     "output_type": "display_data"
    },
    {
     "data": {
      "text/html": [
       "<pre style=\"white-space:pre;overflow-x:auto;line-height:normal;font-family:Menlo,'DejaVu Sans Mono',consolas,'Courier New',monospace\">\n",
       "</pre>\n"
      ],
      "text/plain": [
       "\n"
      ]
     },
     "metadata": {},
     "output_type": "display_data"
    },
    {
     "data": {
      "text/html": [
       "<pre style=\"white-space:pre;overflow-x:auto;line-height:normal;font-family:Menlo,'DejaVu Sans Mono',consolas,'Courier New',monospace\">Setup via `SCVI.setup_anndata` with arguments:\n",
       "</pre>\n"
      ],
      "text/plain": [
       "Setup via `SCVI.setup_anndata` with arguments:\n"
      ]
     },
     "metadata": {},
     "output_type": "display_data"
    },
    {
     "data": {
      "text/html": [
       "<pre style=\"white-space:pre;overflow-x:auto;line-height:normal;font-family:Menlo,'DejaVu Sans Mono',consolas,'Courier New',monospace\"><span style=\"font-weight: bold\">{</span>\n",
       "<span style=\"color: #7fbf7f; text-decoration-color: #7fbf7f\">│   </span><span style=\"color: #008000; text-decoration-color: #008000\">'layer'</span>: <span style=\"color: #008000; text-decoration-color: #008000\">'counts'</span>,\n",
       "<span style=\"color: #7fbf7f; text-decoration-color: #7fbf7f\">│   </span><span style=\"color: #008000; text-decoration-color: #008000\">'batch_key'</span>: <span style=\"color: #008000; text-decoration-color: #008000\">'Sample'</span>,\n",
       "<span style=\"color: #7fbf7f; text-decoration-color: #7fbf7f\">│   </span><span style=\"color: #008000; text-decoration-color: #008000\">'labels_key'</span>: <span style=\"color: #800080; text-decoration-color: #800080; font-style: italic\">None</span>,\n",
       "<span style=\"color: #7fbf7f; text-decoration-color: #7fbf7f\">│   </span><span style=\"color: #008000; text-decoration-color: #008000\">'size_factor_key'</span>: <span style=\"color: #800080; text-decoration-color: #800080; font-style: italic\">None</span>,\n",
       "<span style=\"color: #7fbf7f; text-decoration-color: #7fbf7f\">│   </span><span style=\"color: #008000; text-decoration-color: #008000\">'categorical_covariate_keys'</span>: <span style=\"font-weight: bold\">[</span><span style=\"color: #008000; text-decoration-color: #008000\">'Group'</span>, <span style=\"color: #008000; text-decoration-color: #008000\">'Diet'</span><span style=\"font-weight: bold\">]</span>,\n",
       "<span style=\"color: #7fbf7f; text-decoration-color: #7fbf7f\">│   </span><span style=\"color: #008000; text-decoration-color: #008000\">'continuous_covariate_keys'</span>: <span style=\"color: #800080; text-decoration-color: #800080; font-style: italic\">None</span>\n",
       "<span style=\"font-weight: bold\">}</span>\n",
       "</pre>\n"
      ],
      "text/plain": [
       "\u001b[1m{\u001b[0m\n",
       "\u001b[2;32m│   \u001b[0m\u001b[32m'layer'\u001b[0m: \u001b[32m'counts'\u001b[0m,\n",
       "\u001b[2;32m│   \u001b[0m\u001b[32m'batch_key'\u001b[0m: \u001b[32m'Sample'\u001b[0m,\n",
       "\u001b[2;32m│   \u001b[0m\u001b[32m'labels_key'\u001b[0m: \u001b[3;35mNone\u001b[0m,\n",
       "\u001b[2;32m│   \u001b[0m\u001b[32m'size_factor_key'\u001b[0m: \u001b[3;35mNone\u001b[0m,\n",
       "\u001b[2;32m│   \u001b[0m\u001b[32m'categorical_covariate_keys'\u001b[0m: \u001b[1m[\u001b[0m\u001b[32m'Group'\u001b[0m, \u001b[32m'Diet'\u001b[0m\u001b[1m]\u001b[0m,\n",
       "\u001b[2;32m│   \u001b[0m\u001b[32m'continuous_covariate_keys'\u001b[0m: \u001b[3;35mNone\u001b[0m\n",
       "\u001b[1m}\u001b[0m\n"
      ]
     },
     "metadata": {},
     "output_type": "display_data"
    },
    {
     "data": {
      "text/html": [
       "<pre style=\"white-space:pre;overflow-x:auto;line-height:normal;font-family:Menlo,'DejaVu Sans Mono',consolas,'Courier New',monospace\">\n",
       "</pre>\n"
      ],
      "text/plain": [
       "\n"
      ]
     },
     "metadata": {},
     "output_type": "display_data"
    },
    {
     "data": {
      "text/html": [
       "<pre style=\"white-space:pre;overflow-x:auto;line-height:normal;font-family:Menlo,'DejaVu Sans Mono',consolas,'Courier New',monospace\"><span style=\"font-style: italic\">         Summary Statistics         </span>\n",
       "┏━━━━━━━━━━━━━━━━━━━━━━━━━━┳━━━━━━━┓\n",
       "┃<span style=\"font-weight: bold\">     Summary Stat Key     </span>┃<span style=\"font-weight: bold\"> Value </span>┃\n",
       "┡━━━━━━━━━━━━━━━━━━━━━━━━━━╇━━━━━━━┩\n",
       "│<span style=\"color: #0087ff; text-decoration-color: #0087ff\">         n_batch          </span>│<span style=\"color: #af00d7; text-decoration-color: #af00d7\">   6   </span>│\n",
       "│<span style=\"color: #0087ff; text-decoration-color: #0087ff\">         n_cells          </span>│<span style=\"color: #af00d7; text-decoration-color: #af00d7\"> 36821 </span>│\n",
       "│<span style=\"color: #0087ff; text-decoration-color: #0087ff\"> n_extra_categorical_covs </span>│<span style=\"color: #af00d7; text-decoration-color: #af00d7\">   2   </span>│\n",
       "│<span style=\"color: #0087ff; text-decoration-color: #0087ff\"> n_extra_continuous_covs  </span>│<span style=\"color: #af00d7; text-decoration-color: #af00d7\">   0   </span>│\n",
       "│<span style=\"color: #0087ff; text-decoration-color: #0087ff\">         n_labels         </span>│<span style=\"color: #af00d7; text-decoration-color: #af00d7\">   1   </span>│\n",
       "│<span style=\"color: #0087ff; text-decoration-color: #0087ff\">          n_vars          </span>│<span style=\"color: #af00d7; text-decoration-color: #af00d7\"> 2000  </span>│\n",
       "└──────────────────────────┴───────┘\n",
       "</pre>\n"
      ],
      "text/plain": [
       "\u001b[3m         Summary Statistics         \u001b[0m\n",
       "┏━━━━━━━━━━━━━━━━━━━━━━━━━━┳━━━━━━━┓\n",
       "┃\u001b[1m \u001b[0m\u001b[1m    Summary Stat Key    \u001b[0m\u001b[1m \u001b[0m┃\u001b[1m \u001b[0m\u001b[1mValue\u001b[0m\u001b[1m \u001b[0m┃\n",
       "┡━━━━━━━━━━━━━━━━━━━━━━━━━━╇━━━━━━━┩\n",
       "│\u001b[38;5;33m \u001b[0m\u001b[38;5;33m        n_batch         \u001b[0m\u001b[38;5;33m \u001b[0m│\u001b[38;5;128m \u001b[0m\u001b[38;5;128m  6  \u001b[0m\u001b[38;5;128m \u001b[0m│\n",
       "│\u001b[38;5;33m \u001b[0m\u001b[38;5;33m        n_cells         \u001b[0m\u001b[38;5;33m \u001b[0m│\u001b[38;5;128m \u001b[0m\u001b[38;5;128m36821\u001b[0m\u001b[38;5;128m \u001b[0m│\n",
       "│\u001b[38;5;33m \u001b[0m\u001b[38;5;33mn_extra_categorical_covs\u001b[0m\u001b[38;5;33m \u001b[0m│\u001b[38;5;128m \u001b[0m\u001b[38;5;128m  2  \u001b[0m\u001b[38;5;128m \u001b[0m│\n",
       "│\u001b[38;5;33m \u001b[0m\u001b[38;5;33mn_extra_continuous_covs \u001b[0m\u001b[38;5;33m \u001b[0m│\u001b[38;5;128m \u001b[0m\u001b[38;5;128m  0  \u001b[0m\u001b[38;5;128m \u001b[0m│\n",
       "│\u001b[38;5;33m \u001b[0m\u001b[38;5;33m        n_labels        \u001b[0m\u001b[38;5;33m \u001b[0m│\u001b[38;5;128m \u001b[0m\u001b[38;5;128m  1  \u001b[0m\u001b[38;5;128m \u001b[0m│\n",
       "│\u001b[38;5;33m \u001b[0m\u001b[38;5;33m         n_vars         \u001b[0m\u001b[38;5;33m \u001b[0m│\u001b[38;5;128m \u001b[0m\u001b[38;5;128m2000 \u001b[0m\u001b[38;5;128m \u001b[0m│\n",
       "└──────────────────────────┴───────┘\n"
      ]
     },
     "metadata": {},
     "output_type": "display_data"
    },
    {
     "data": {
      "text/html": [
       "<pre style=\"white-space:pre;overflow-x:auto;line-height:normal;font-family:Menlo,'DejaVu Sans Mono',consolas,'Courier New',monospace\"><span style=\"font-style: italic\">                             Data Registry                             </span>\n",
       "┏━━━━━━━━━━━━━━━━━━━━━━━━┳━━━━━━━━━━━━━━━━━━━━━━━━━━━━━━━━━━━━━━━━━━━━┓\n",
       "┃<span style=\"font-weight: bold\">      Registry Key      </span>┃<span style=\"font-weight: bold\">            scvi-tools Location             </span>┃\n",
       "┡━━━━━━━━━━━━━━━━━━━━━━━━╇━━━━━━━━━━━━━━━━━━━━━━━━━━━━━━━━━━━━━━━━━━━━┩\n",
       "│<span style=\"color: #0087ff; text-decoration-color: #0087ff\">           X            </span>│<span style=\"color: #af00d7; text-decoration-color: #af00d7\">           adata.layers['counts']           </span>│\n",
       "│<span style=\"color: #0087ff; text-decoration-color: #0087ff\">         batch          </span>│<span style=\"color: #af00d7; text-decoration-color: #af00d7\">          adata.obs['_scvi_batch']          </span>│\n",
       "│<span style=\"color: #0087ff; text-decoration-color: #0087ff\"> extra_categorical_covs </span>│<span style=\"color: #af00d7; text-decoration-color: #af00d7\"> adata.obsm['_scvi_extra_categorical_covs'] </span>│\n",
       "│<span style=\"color: #0087ff; text-decoration-color: #0087ff\">         labels         </span>│<span style=\"color: #af00d7; text-decoration-color: #af00d7\">         adata.obs['_scvi_labels']          </span>│\n",
       "└────────────────────────┴────────────────────────────────────────────┘\n",
       "</pre>\n"
      ],
      "text/plain": [
       "\u001b[3m                             Data Registry                             \u001b[0m\n",
       "┏━━━━━━━━━━━━━━━━━━━━━━━━┳━━━━━━━━━━━━━━━━━━━━━━━━━━━━━━━━━━━━━━━━━━━━┓\n",
       "┃\u001b[1m \u001b[0m\u001b[1m     Registry Key     \u001b[0m\u001b[1m \u001b[0m┃\u001b[1m \u001b[0m\u001b[1m           scvi-tools Location            \u001b[0m\u001b[1m \u001b[0m┃\n",
       "┡━━━━━━━━━━━━━━━━━━━━━━━━╇━━━━━━━━━━━━━━━━━━━━━━━━━━━━━━━━━━━━━━━━━━━━┩\n",
       "│\u001b[38;5;33m \u001b[0m\u001b[38;5;33m          X           \u001b[0m\u001b[38;5;33m \u001b[0m│\u001b[38;5;128m \u001b[0m\u001b[38;5;128m          adata.layers['counts']          \u001b[0m\u001b[38;5;128m \u001b[0m│\n",
       "│\u001b[38;5;33m \u001b[0m\u001b[38;5;33m        batch         \u001b[0m\u001b[38;5;33m \u001b[0m│\u001b[38;5;128m \u001b[0m\u001b[38;5;128m         adata.obs['_scvi_batch']         \u001b[0m\u001b[38;5;128m \u001b[0m│\n",
       "│\u001b[38;5;33m \u001b[0m\u001b[38;5;33mextra_categorical_covs\u001b[0m\u001b[38;5;33m \u001b[0m│\u001b[38;5;128m \u001b[0m\u001b[38;5;128madata.obsm['_scvi_extra_categorical_covs']\u001b[0m\u001b[38;5;128m \u001b[0m│\n",
       "│\u001b[38;5;33m \u001b[0m\u001b[38;5;33m        labels        \u001b[0m\u001b[38;5;33m \u001b[0m│\u001b[38;5;128m \u001b[0m\u001b[38;5;128m        adata.obs['_scvi_labels']         \u001b[0m\u001b[38;5;128m \u001b[0m│\n",
       "└────────────────────────┴────────────────────────────────────────────┘\n"
      ]
     },
     "metadata": {},
     "output_type": "display_data"
    },
    {
     "data": {
      "text/html": [
       "<pre style=\"white-space:pre;overflow-x:auto;line-height:normal;font-family:Menlo,'DejaVu Sans Mono',consolas,'Courier New',monospace\"><span style=\"font-style: italic\">                   batch State Registry                   </span>\n",
       "┏━━━━━━━━━━━━━━━━━━━━━┳━━━━━━━━━━━━┳━━━━━━━━━━━━━━━━━━━━━┓\n",
       "┃<span style=\"font-weight: bold\">   Source Location   </span>┃<span style=\"font-weight: bold\"> Categories </span>┃<span style=\"font-weight: bold\"> scvi-tools Encoding </span>┃\n",
       "┡━━━━━━━━━━━━━━━━━━━━━╇━━━━━━━━━━━━╇━━━━━━━━━━━━━━━━━━━━━┩\n",
       "│<span style=\"color: #0087ff; text-decoration-color: #0087ff\"> adata.obs['Sample'] </span>│<span style=\"color: #008000; text-decoration-color: #008000\"> GSM7047711 </span>│<span style=\"color: #af00d7; text-decoration-color: #af00d7\">          0          </span>│\n",
       "│<span style=\"color: #0087ff; text-decoration-color: #0087ff\">                     </span>│<span style=\"color: #008000; text-decoration-color: #008000\"> GSM7047712 </span>│<span style=\"color: #af00d7; text-decoration-color: #af00d7\">          1          </span>│\n",
       "│<span style=\"color: #0087ff; text-decoration-color: #0087ff\">                     </span>│<span style=\"color: #008000; text-decoration-color: #008000\"> GSM7047713 </span>│<span style=\"color: #af00d7; text-decoration-color: #af00d7\">          2          </span>│\n",
       "│<span style=\"color: #0087ff; text-decoration-color: #0087ff\">                     </span>│<span style=\"color: #008000; text-decoration-color: #008000\"> GSM7047714 </span>│<span style=\"color: #af00d7; text-decoration-color: #af00d7\">          3          </span>│\n",
       "│<span style=\"color: #0087ff; text-decoration-color: #0087ff\">                     </span>│<span style=\"color: #008000; text-decoration-color: #008000\"> GSM7047715 </span>│<span style=\"color: #af00d7; text-decoration-color: #af00d7\">          4          </span>│\n",
       "│<span style=\"color: #0087ff; text-decoration-color: #0087ff\">                     </span>│<span style=\"color: #008000; text-decoration-color: #008000\"> GSM7047716 </span>│<span style=\"color: #af00d7; text-decoration-color: #af00d7\">          5          </span>│\n",
       "└─────────────────────┴────────────┴─────────────────────┘\n",
       "</pre>\n"
      ],
      "text/plain": [
       "\u001b[3m                   batch State Registry                   \u001b[0m\n",
       "┏━━━━━━━━━━━━━━━━━━━━━┳━━━━━━━━━━━━┳━━━━━━━━━━━━━━━━━━━━━┓\n",
       "┃\u001b[1m \u001b[0m\u001b[1m  Source Location  \u001b[0m\u001b[1m \u001b[0m┃\u001b[1m \u001b[0m\u001b[1mCategories\u001b[0m\u001b[1m \u001b[0m┃\u001b[1m \u001b[0m\u001b[1mscvi-tools Encoding\u001b[0m\u001b[1m \u001b[0m┃\n",
       "┡━━━━━━━━━━━━━━━━━━━━━╇━━━━━━━━━━━━╇━━━━━━━━━━━━━━━━━━━━━┩\n",
       "│\u001b[38;5;33m \u001b[0m\u001b[38;5;33madata.obs['Sample']\u001b[0m\u001b[38;5;33m \u001b[0m│\u001b[32m \u001b[0m\u001b[32mGSM7047711\u001b[0m\u001b[32m \u001b[0m│\u001b[38;5;128m \u001b[0m\u001b[38;5;128m         0         \u001b[0m\u001b[38;5;128m \u001b[0m│\n",
       "│\u001b[38;5;33m \u001b[0m\u001b[38;5;33m                   \u001b[0m\u001b[38;5;33m \u001b[0m│\u001b[32m \u001b[0m\u001b[32mGSM7047712\u001b[0m\u001b[32m \u001b[0m│\u001b[38;5;128m \u001b[0m\u001b[38;5;128m         1         \u001b[0m\u001b[38;5;128m \u001b[0m│\n",
       "│\u001b[38;5;33m \u001b[0m\u001b[38;5;33m                   \u001b[0m\u001b[38;5;33m \u001b[0m│\u001b[32m \u001b[0m\u001b[32mGSM7047713\u001b[0m\u001b[32m \u001b[0m│\u001b[38;5;128m \u001b[0m\u001b[38;5;128m         2         \u001b[0m\u001b[38;5;128m \u001b[0m│\n",
       "│\u001b[38;5;33m \u001b[0m\u001b[38;5;33m                   \u001b[0m\u001b[38;5;33m \u001b[0m│\u001b[32m \u001b[0m\u001b[32mGSM7047714\u001b[0m\u001b[32m \u001b[0m│\u001b[38;5;128m \u001b[0m\u001b[38;5;128m         3         \u001b[0m\u001b[38;5;128m \u001b[0m│\n",
       "│\u001b[38;5;33m \u001b[0m\u001b[38;5;33m                   \u001b[0m\u001b[38;5;33m \u001b[0m│\u001b[32m \u001b[0m\u001b[32mGSM7047715\u001b[0m\u001b[32m \u001b[0m│\u001b[38;5;128m \u001b[0m\u001b[38;5;128m         4         \u001b[0m\u001b[38;5;128m \u001b[0m│\n",
       "│\u001b[38;5;33m \u001b[0m\u001b[38;5;33m                   \u001b[0m\u001b[38;5;33m \u001b[0m│\u001b[32m \u001b[0m\u001b[32mGSM7047716\u001b[0m\u001b[32m \u001b[0m│\u001b[38;5;128m \u001b[0m\u001b[38;5;128m         5         \u001b[0m\u001b[38;5;128m \u001b[0m│\n",
       "└─────────────────────┴────────────┴─────────────────────┘\n"
      ]
     },
     "metadata": {},
     "output_type": "display_data"
    },
    {
     "data": {
      "text/html": [
       "<pre style=\"white-space:pre;overflow-x:auto;line-height:normal;font-family:Menlo,'DejaVu Sans Mono',consolas,'Courier New',monospace\"><span style=\"font-style: italic\">                     labels State Registry                      </span>\n",
       "┏━━━━━━━━━━━━━━━━━━━━━━━━━━━┳━━━━━━━━━━━━┳━━━━━━━━━━━━━━━━━━━━━┓\n",
       "┃<span style=\"font-weight: bold\">      Source Location      </span>┃<span style=\"font-weight: bold\"> Categories </span>┃<span style=\"font-weight: bold\"> scvi-tools Encoding </span>┃\n",
       "┡━━━━━━━━━━━━━━━━━━━━━━━━━━━╇━━━━━━━━━━━━╇━━━━━━━━━━━━━━━━━━━━━┩\n",
       "│<span style=\"color: #0087ff; text-decoration-color: #0087ff\"> adata.obs['_scvi_labels'] </span>│<span style=\"color: #008000; text-decoration-color: #008000\">     0      </span>│<span style=\"color: #af00d7; text-decoration-color: #af00d7\">          0          </span>│\n",
       "└───────────────────────────┴────────────┴─────────────────────┘\n",
       "</pre>\n"
      ],
      "text/plain": [
       "\u001b[3m                     labels State Registry                      \u001b[0m\n",
       "┏━━━━━━━━━━━━━━━━━━━━━━━━━━━┳━━━━━━━━━━━━┳━━━━━━━━━━━━━━━━━━━━━┓\n",
       "┃\u001b[1m \u001b[0m\u001b[1m     Source Location     \u001b[0m\u001b[1m \u001b[0m┃\u001b[1m \u001b[0m\u001b[1mCategories\u001b[0m\u001b[1m \u001b[0m┃\u001b[1m \u001b[0m\u001b[1mscvi-tools Encoding\u001b[0m\u001b[1m \u001b[0m┃\n",
       "┡━━━━━━━━━━━━━━━━━━━━━━━━━━━╇━━━━━━━━━━━━╇━━━━━━━━━━━━━━━━━━━━━┩\n",
       "│\u001b[38;5;33m \u001b[0m\u001b[38;5;33madata.obs['_scvi_labels']\u001b[0m\u001b[38;5;33m \u001b[0m│\u001b[32m \u001b[0m\u001b[32m    0     \u001b[0m\u001b[32m \u001b[0m│\u001b[38;5;128m \u001b[0m\u001b[38;5;128m         0         \u001b[0m\u001b[38;5;128m \u001b[0m│\n",
       "└───────────────────────────┴────────────┴─────────────────────┘\n"
      ]
     },
     "metadata": {},
     "output_type": "display_data"
    },
    {
     "data": {
      "text/html": [
       "<pre style=\"white-space:pre;overflow-x:auto;line-height:normal;font-family:Menlo,'DejaVu Sans Mono',consolas,'Courier New',monospace\"><span style=\"font-style: italic\">           extra_categorical_covs State Registry            </span>\n",
       "┏━━━━━━━━━━━━━━━━━━━━┳━━━━━━━━━━━━━━━┳━━━━━━━━━━━━━━━━━━━━━┓\n",
       "┃<span style=\"font-weight: bold\">  Source Location   </span>┃<span style=\"font-weight: bold\">  Categories   </span>┃<span style=\"font-weight: bold\"> scvi-tools Encoding </span>┃\n",
       "┡━━━━━━━━━━━━━━━━━━━━╇━━━━━━━━━━━━━━━╇━━━━━━━━━━━━━━━━━━━━━┩\n",
       "│<span style=\"color: #0087ff; text-decoration-color: #0087ff\"> adata.obs['Diet']  </span>│<span style=\"color: #008000; text-decoration-color: #008000\">  western Diet </span>│<span style=\"color: #af00d7; text-decoration-color: #af00d7\">          0          </span>│\n",
       "│<span style=\"color: #0087ff; text-decoration-color: #0087ff\">                    </span>│<span style=\"color: #008000; text-decoration-color: #008000\">   chow diet   </span>│<span style=\"color: #af00d7; text-decoration-color: #af00d7\">          1          </span>│\n",
       "│<span style=\"color: #0087ff; text-decoration-color: #0087ff\">                    </span>│<span style=\"color: #008000; text-decoration-color: #008000\">               </span>│<span style=\"color: #af00d7; text-decoration-color: #af00d7\">                     </span>│\n",
       "│<span style=\"color: #0087ff; text-decoration-color: #0087ff\"> adata.obs['Group'] </span>│<span style=\"color: #008000; text-decoration-color: #008000\">    control    </span>│<span style=\"color: #af00d7; text-decoration-color: #af00d7\">          0          </span>│\n",
       "│<span style=\"color: #0087ff; text-decoration-color: #0087ff\">                    </span>│<span style=\"color: #008000; text-decoration-color: #008000\">  post-tumor   </span>│<span style=\"color: #af00d7; text-decoration-color: #af00d7\">          1          </span>│\n",
       "│<span style=\"color: #0087ff; text-decoration-color: #0087ff\">                    </span>│<span style=\"color: #008000; text-decoration-color: #008000\">   pre-tumor   </span>│<span style=\"color: #af00d7; text-decoration-color: #af00d7\">          2          </span>│\n",
       "│<span style=\"color: #0087ff; text-decoration-color: #0087ff\">                    </span>│<span style=\"color: #008000; text-decoration-color: #008000\">               </span>│<span style=\"color: #af00d7; text-decoration-color: #af00d7\">                     </span>│\n",
       "└────────────────────┴───────────────┴─────────────────────┘\n",
       "</pre>\n"
      ],
      "text/plain": [
       "\u001b[3m           extra_categorical_covs State Registry            \u001b[0m\n",
       "┏━━━━━━━━━━━━━━━━━━━━┳━━━━━━━━━━━━━━━┳━━━━━━━━━━━━━━━━━━━━━┓\n",
       "┃\u001b[1m \u001b[0m\u001b[1m Source Location  \u001b[0m\u001b[1m \u001b[0m┃\u001b[1m \u001b[0m\u001b[1m Categories  \u001b[0m\u001b[1m \u001b[0m┃\u001b[1m \u001b[0m\u001b[1mscvi-tools Encoding\u001b[0m\u001b[1m \u001b[0m┃\n",
       "┡━━━━━━━━━━━━━━━━━━━━╇━━━━━━━━━━━━━━━╇━━━━━━━━━━━━━━━━━━━━━┩\n",
       "│\u001b[38;5;33m \u001b[0m\u001b[38;5;33madata.obs['Diet'] \u001b[0m\u001b[38;5;33m \u001b[0m│\u001b[32m \u001b[0m\u001b[32m western Diet\u001b[0m\u001b[32m \u001b[0m│\u001b[38;5;128m \u001b[0m\u001b[38;5;128m         0         \u001b[0m\u001b[38;5;128m \u001b[0m│\n",
       "│\u001b[38;5;33m \u001b[0m\u001b[38;5;33m                  \u001b[0m\u001b[38;5;33m \u001b[0m│\u001b[32m \u001b[0m\u001b[32m  chow diet  \u001b[0m\u001b[32m \u001b[0m│\u001b[38;5;128m \u001b[0m\u001b[38;5;128m         1         \u001b[0m\u001b[38;5;128m \u001b[0m│\n",
       "│\u001b[38;5;33m \u001b[0m\u001b[38;5;33m                  \u001b[0m\u001b[38;5;33m \u001b[0m│\u001b[32m \u001b[0m\u001b[32m             \u001b[0m\u001b[32m \u001b[0m│\u001b[38;5;128m \u001b[0m\u001b[38;5;128m                   \u001b[0m\u001b[38;5;128m \u001b[0m│\n",
       "│\u001b[38;5;33m \u001b[0m\u001b[38;5;33madata.obs['Group']\u001b[0m\u001b[38;5;33m \u001b[0m│\u001b[32m \u001b[0m\u001b[32m   control   \u001b[0m\u001b[32m \u001b[0m│\u001b[38;5;128m \u001b[0m\u001b[38;5;128m         0         \u001b[0m\u001b[38;5;128m \u001b[0m│\n",
       "│\u001b[38;5;33m \u001b[0m\u001b[38;5;33m                  \u001b[0m\u001b[38;5;33m \u001b[0m│\u001b[32m \u001b[0m\u001b[32m post-tumor  \u001b[0m\u001b[32m \u001b[0m│\u001b[38;5;128m \u001b[0m\u001b[38;5;128m         1         \u001b[0m\u001b[38;5;128m \u001b[0m│\n",
       "│\u001b[38;5;33m \u001b[0m\u001b[38;5;33m                  \u001b[0m\u001b[38;5;33m \u001b[0m│\u001b[32m \u001b[0m\u001b[32m  pre-tumor  \u001b[0m\u001b[32m \u001b[0m│\u001b[38;5;128m \u001b[0m\u001b[38;5;128m         2         \u001b[0m\u001b[38;5;128m \u001b[0m│\n",
       "│\u001b[38;5;33m \u001b[0m\u001b[38;5;33m                  \u001b[0m\u001b[38;5;33m \u001b[0m│\u001b[32m \u001b[0m\u001b[32m             \u001b[0m\u001b[32m \u001b[0m│\u001b[38;5;128m \u001b[0m\u001b[38;5;128m                   \u001b[0m\u001b[38;5;128m \u001b[0m│\n",
       "└────────────────────┴───────────────┴─────────────────────┘\n"
      ]
     },
     "metadata": {},
     "output_type": "display_data"
    }
   ],
   "source": [
    "model = scvi.model.SCVI(adata)\n",
    "model.view_anndata_setup()"
   ]
  },
  {
   "cell_type": "code",
   "execution_count": 24,
   "id": "06b2cbc6-ed58-4db6-8dbd-b77963c4ee3b",
   "metadata": {},
   "outputs": [
    {
     "name": "stderr",
     "output_type": "stream",
     "text": [
      "GPU available: True (mps), used: False\n",
      "TPU available: False, using: 0 TPU cores\n",
      "IPU available: False, using: 0 IPUs\n",
      "HPU available: False, using: 0 HPUs\n",
      "/opt/anaconda3/lib/python3.12/site-packages/lightning/pytorch/trainer/setup.py:187: GPU available but not used. You can set it by doing `Trainer(accelerator='gpu')`.\n",
      "/opt/anaconda3/lib/python3.12/site-packages/lightning/pytorch/trainer/connectors/data_connector.py:441: The 'train_dataloader' does not have many workers which may be a bottleneck. Consider increasing the value of the `num_workers` argument` to `num_workers=9` in the `DataLoader` to improve performance.\n"
     ]
    },
    {
     "name": "stdout",
     "output_type": "stream",
     "text": [
      "Epoch 217/217: 100%|██████████| 217/217 [12:00<00:00,  3.30s/it, v_num=1, train_loss_step=759, train_loss_epoch=747]"
     ]
    },
    {
     "name": "stderr",
     "output_type": "stream",
     "text": [
      "`Trainer.fit` stopped: `max_epochs=217` reached.\n"
     ]
    },
    {
     "name": "stdout",
     "output_type": "stream",
     "text": [
      "Epoch 217/217: 100%|██████████| 217/217 [12:00<00:00,  3.32s/it, v_num=1, train_loss_step=759, train_loss_epoch=747]\n"
     ]
    }
   ],
   "source": [
    "model.train()"
   ]
  },
  {
   "cell_type": "code",
   "execution_count": 32,
   "id": "c77379f5-18b4-4e8e-9289-531a6b03df8c",
   "metadata": {},
   "outputs": [
    {
     "name": "stderr",
     "output_type": "stream",
     "text": [
      "/var/folders/3k/phqsvgp15y323p7xbkhjz7300000gn/T/ipykernel_5599/2582969182.py:5: FutureWarning: In the future, the default backend for leiden will be igraph instead of leidenalg.\n",
      "\n",
      " To achieve the future defaults please pass: flavor=\"igraph\" and n_iterations=2.  directed must also be False to work with igraph's implementation.\n",
      "  sc.tl.leiden(adata, resolution = 1)\n"
     ]
    }
   ],
   "source": [
    "adata.obsm['X_scVI'] = model.get_latent_representation()\n",
    "adata.layers['scvi_normalized'] = model.get_normalized_expression(library_size = 1e4)\n",
    "sc.pp.neighbors(adata, use_rep = 'X_scVI')\n",
    "sc.tl.umap(adata)\n",
    "sc.tl.leiden(adata, resolution = 1)"
   ]
  },
  {
   "cell_type": "code",
   "execution_count": 34,
   "id": "abb62a2f-9437-43c0-a94b-aee6fac7e425",
   "metadata": {},
   "outputs": [],
   "source": [
    "sc.pp.normalize_total(adata, target_sum = 1e4)\n",
    "sc.pp.log1p(adata)"
   ]
  },
  {
   "cell_type": "code",
   "execution_count": 39,
   "id": "f1c52b89-dc70-4713-a0f5-93d4ba429471",
   "metadata": {},
   "outputs": [
    {
     "name": "stderr",
     "output_type": "stream",
     "text": [
      "🔎 No available models. Downloading...\n",
      "📜 Retrieving model list from server https://celltypist.cog.sanger.ac.uk/models/models.json\n",
      "📚 Total models in list: 52\n",
      "📂 Storing models in /Users/tdarde/.celltypist/data/models\n",
      "💾 Downloading model [1/52]: Immune_All_Low.pkl\n",
      "💾 Downloading model [2/52]: Immune_All_High.pkl\n",
      "💾 Downloading model [3/52]: Adult_COVID19_PBMC.pkl\n",
      "💾 Downloading model [4/52]: Adult_CynomolgusMacaque_Hippocampus.pkl\n",
      "💾 Downloading model [5/52]: Adult_Human_MTG.pkl\n",
      "💾 Downloading model [6/52]: Adult_Human_PancreaticIslet.pkl\n",
      "💾 Downloading model [7/52]: Adult_Human_PrefrontalCortex.pkl\n",
      "💾 Downloading model [8/52]: Adult_Human_Skin.pkl\n",
      "💾 Downloading model [9/52]: Adult_Mouse_Gut.pkl\n",
      "💾 Downloading model [10/52]: Adult_Mouse_OlfactoryBulb.pkl\n",
      "💾 Downloading model [11/52]: Adult_Pig_Hippocampus.pkl\n",
      "💾 Downloading model [12/52]: Adult_RhesusMacaque_Hippocampus.pkl\n",
      "💾 Downloading model [13/52]: Autopsy_COVID19_Lung.pkl\n",
      "💾 Downloading model [14/52]: COVID19_HumanChallenge_Blood.pkl\n",
      "💾 Downloading model [15/52]: COVID19_Immune_Landscape.pkl\n",
      "💾 Downloading model [16/52]: Cells_Adult_Breast.pkl\n",
      "💾 Downloading model [17/52]: Cells_Fetal_Lung.pkl\n",
      "💾 Downloading model [18/52]: Cells_Human_Tonsil.pkl\n",
      "💾 Downloading model [19/52]: Cells_Intestinal_Tract.pkl\n",
      "💾 Downloading model [20/52]: Cells_Lung_Airway.pkl\n",
      "💾 Downloading model [21/52]: Developing_Human_Brain.pkl\n",
      "💾 Downloading model [22/52]: Developing_Human_Gonads.pkl\n",
      "💾 Downloading model [23/52]: Developing_Human_Hippocampus.pkl\n",
      "💾 Downloading model [24/52]: Developing_Human_Organs.pkl\n",
      "💾 Downloading model [25/52]: Developing_Human_Thymus.pkl\n",
      "💾 Downloading model [26/52]: Developing_Mouse_Brain.pkl\n",
      "💾 Downloading model [27/52]: Developing_Mouse_Hippocampus.pkl\n",
      "💾 Downloading model [28/52]: Fetal_Human_AdrenalGlands.pkl\n",
      "💾 Downloading model [29/52]: Fetal_Human_Pancreas.pkl\n",
      "💾 Downloading model [30/52]: Fetal_Human_Pituitary.pkl\n",
      "💾 Downloading model [31/52]: Fetal_Human_Retina.pkl\n",
      "💾 Downloading model [32/52]: Fetal_Human_Skin.pkl\n",
      "💾 Downloading model [33/52]: Healthy_Adult_Heart.pkl\n",
      "💾 Downloading model [34/52]: Healthy_COVID19_PBMC.pkl\n",
      "💾 Downloading model [35/52]: Healthy_Human_Liver.pkl\n",
      "💾 Downloading model [36/52]: Healthy_Mouse_Liver.pkl\n",
      "💾 Downloading model [37/52]: Human_AdultAged_Hippocampus.pkl\n",
      "💾 Downloading model [38/52]: Human_Colorectal_Cancer.pkl\n",
      "💾 Downloading model [39/52]: Human_Developmental_Retina.pkl\n",
      "💾 Downloading model [40/52]: Human_Embryonic_YolkSac.pkl\n",
      "💾 Downloading model [41/52]: Human_IPF_Lung.pkl\n",
      "💾 Downloading model [42/52]: Human_Longitudinal_Hippocampus.pkl\n",
      "💾 Downloading model [43/52]: Human_Lung_Atlas.pkl\n",
      "💾 Downloading model [44/52]: Human_PF_Lung.pkl\n",
      "💾 Downloading model [45/52]: Human_Placenta_Decidua.pkl\n",
      "💾 Downloading model [46/52]: Lethal_COVID19_Lung.pkl\n",
      "💾 Downloading model [47/52]: Mouse_Dentate_Gyrus.pkl\n",
      "💾 Downloading model [48/52]: Mouse_Isocortex_Hippocampus.pkl\n",
      "💾 Downloading model [49/52]: Mouse_Postnatal_DentateGyrus.pkl\n",
      "💾 Downloading model [50/52]: Mouse_Whole_Brain.pkl\n",
      "💾 Downloading model [51/52]: Nuclei_Lung_Airway.pkl\n",
      "💾 Downloading model [52/52]: Pan_Fetal_Human.pkl\n",
      "🔬 Input data has 36821 cells and 2000 genes\n",
      "🔗 Matching reference genes in the model\n",
      "🧬 785 features used for prediction\n",
      "⚖️ Scaling input data\n",
      "🖋️ Predicting labels\n",
      "✅ Prediction done!\n",
      "👀 Detected a neighborhood graph in the input object, will run over-clustering on the basis of it\n",
      "⛓️ Over-clustering input data with resolution set to 15\n",
      "🗳️ Majority voting the predictions\n",
      "✅ Majority voting done!\n"
     ]
    }
   ],
   "source": [
    "import celltypist\n",
    "predictions = celltypist.annotate(adata, model = 'Healthy_Mouse_Liver.pkl', majority_voting = True)"
   ]
  },
  {
   "cell_type": "code",
   "execution_count": 41,
   "id": "e071297b-8652-46b6-a986-318728e009da",
   "metadata": {},
   "outputs": [],
   "source": [
    "adata = predictions.to_adata()"
   ]
  },
  {
   "cell_type": "code",
   "execution_count": 43,
   "id": "82614ebe-3bb9-4eb4-b1db-d5a7ae900df4",
   "metadata": {},
   "outputs": [],
   "source": [
    "adata.X = adata.layers[\"scvi_normalized\"]"
   ]
  },
  {
   "cell_type": "code",
   "execution_count": 45,
   "id": "53c707ca-7d5d-4807-9836-2a7f8cfd5774",
   "metadata": {},
   "outputs": [
    {
     "data": {
      "text/html": [
       "<div>\n",
       "<style scoped>\n",
       "    .dataframe tbody tr th:only-of-type {\n",
       "        vertical-align: middle;\n",
       "    }\n",
       "\n",
       "    .dataframe tbody tr th {\n",
       "        vertical-align: top;\n",
       "    }\n",
       "\n",
       "    .dataframe thead th {\n",
       "        text-align: right;\n",
       "    }\n",
       "</style>\n",
       "<table border=\"1\" class=\"dataframe\">\n",
       "  <thead>\n",
       "    <tr style=\"text-align: right;\">\n",
       "      <th></th>\n",
       "      <th>n_genes_by_counts</th>\n",
       "      <th>log1p_n_genes_by_counts</th>\n",
       "      <th>total_counts</th>\n",
       "      <th>log1p_total_counts</th>\n",
       "      <th>pct_counts_in_top_20_genes</th>\n",
       "      <th>n_counts</th>\n",
       "      <th>total_counts_mt</th>\n",
       "      <th>log1p_total_counts_mt</th>\n",
       "      <th>pct_counts_mt</th>\n",
       "      <th>total_counts_ribo</th>\n",
       "      <th>...</th>\n",
       "      <th>Group</th>\n",
       "      <th>Diet</th>\n",
       "      <th>Time</th>\n",
       "      <th>_scvi_batch</th>\n",
       "      <th>_scvi_labels</th>\n",
       "      <th>leiden</th>\n",
       "      <th>predicted_labels</th>\n",
       "      <th>over_clustering</th>\n",
       "      <th>majority_voting</th>\n",
       "      <th>conf_score</th>\n",
       "    </tr>\n",
       "  </thead>\n",
       "  <tbody>\n",
       "    <tr>\n",
       "      <th>AAACCCAGTCCGTTTC-1</th>\n",
       "      <td>1920</td>\n",
       "      <td>7.560601</td>\n",
       "      <td>4218.0</td>\n",
       "      <td>8.347353</td>\n",
       "      <td>17.255274</td>\n",
       "      <td>4219.0</td>\n",
       "      <td>31.0</td>\n",
       "      <td>3.465736</td>\n",
       "      <td>0.734945</td>\n",
       "      <td>26.0</td>\n",
       "      <td>...</td>\n",
       "      <td>control</td>\n",
       "      <td>chow diet</td>\n",
       "      <td>40 weeks</td>\n",
       "      <td>0</td>\n",
       "      <td>0</td>\n",
       "      <td>0</td>\n",
       "      <td>Hepatocytes</td>\n",
       "      <td>198</td>\n",
       "      <td>Hepatocytes</td>\n",
       "      <td>0.825969</td>\n",
       "    </tr>\n",
       "    <tr>\n",
       "      <th>AAACCCAGTGAAAGTT-1</th>\n",
       "      <td>472</td>\n",
       "      <td>6.159095</td>\n",
       "      <td>649.0</td>\n",
       "      <td>6.476973</td>\n",
       "      <td>18.798151</td>\n",
       "      <td>649.0</td>\n",
       "      <td>9.0</td>\n",
       "      <td>2.302585</td>\n",
       "      <td>1.386749</td>\n",
       "      <td>8.0</td>\n",
       "      <td>...</td>\n",
       "      <td>control</td>\n",
       "      <td>chow diet</td>\n",
       "      <td>40 weeks</td>\n",
       "      <td>0</td>\n",
       "      <td>0</td>\n",
       "      <td>1</td>\n",
       "      <td>Hepatocytes</td>\n",
       "      <td>142</td>\n",
       "      <td>Hepatocytes</td>\n",
       "      <td>0.039303</td>\n",
       "    </tr>\n",
       "    <tr>\n",
       "      <th>AAACCCAGTTGCGTAT-1</th>\n",
       "      <td>1505</td>\n",
       "      <td>7.317212</td>\n",
       "      <td>2513.0</td>\n",
       "      <td>7.829630</td>\n",
       "      <td>15.791567</td>\n",
       "      <td>2514.0</td>\n",
       "      <td>9.0</td>\n",
       "      <td>2.302585</td>\n",
       "      <td>0.358138</td>\n",
       "      <td>9.0</td>\n",
       "      <td>...</td>\n",
       "      <td>control</td>\n",
       "      <td>chow diet</td>\n",
       "      <td>40 weeks</td>\n",
       "      <td>0</td>\n",
       "      <td>0</td>\n",
       "      <td>4</td>\n",
       "      <td>Fibroblasts</td>\n",
       "      <td>6</td>\n",
       "      <td>Fibroblasts</td>\n",
       "      <td>1.000000</td>\n",
       "    </tr>\n",
       "    <tr>\n",
       "      <th>AAACCCATCGTCGACG-1</th>\n",
       "      <td>3548</td>\n",
       "      <td>8.174421</td>\n",
       "      <td>10445.0</td>\n",
       "      <td>9.253974</td>\n",
       "      <td>14.992820</td>\n",
       "      <td>10445.0</td>\n",
       "      <td>47.0</td>\n",
       "      <td>3.871201</td>\n",
       "      <td>0.449976</td>\n",
       "      <td>36.0</td>\n",
       "      <td>...</td>\n",
       "      <td>control</td>\n",
       "      <td>chow diet</td>\n",
       "      <td>40 weeks</td>\n",
       "      <td>0</td>\n",
       "      <td>0</td>\n",
       "      <td>10</td>\n",
       "      <td>Hepatocytes</td>\n",
       "      <td>28</td>\n",
       "      <td>Hepatocytes</td>\n",
       "      <td>0.995105</td>\n",
       "    </tr>\n",
       "    <tr>\n",
       "      <th>AAACGAAAGAGCATCG-1</th>\n",
       "      <td>588</td>\n",
       "      <td>6.378426</td>\n",
       "      <td>784.0</td>\n",
       "      <td>6.665684</td>\n",
       "      <td>15.051020</td>\n",
       "      <td>784.0</td>\n",
       "      <td>5.0</td>\n",
       "      <td>1.791759</td>\n",
       "      <td>0.637755</td>\n",
       "      <td>4.0</td>\n",
       "      <td>...</td>\n",
       "      <td>control</td>\n",
       "      <td>chow diet</td>\n",
       "      <td>40 weeks</td>\n",
       "      <td>0</td>\n",
       "      <td>0</td>\n",
       "      <td>0</td>\n",
       "      <td>Hepatocytes</td>\n",
       "      <td>214</td>\n",
       "      <td>Hepatocytes</td>\n",
       "      <td>0.182756</td>\n",
       "    </tr>\n",
       "    <tr>\n",
       "      <th>...</th>\n",
       "      <td>...</td>\n",
       "      <td>...</td>\n",
       "      <td>...</td>\n",
       "      <td>...</td>\n",
       "      <td>...</td>\n",
       "      <td>...</td>\n",
       "      <td>...</td>\n",
       "      <td>...</td>\n",
       "      <td>...</td>\n",
       "      <td>...</td>\n",
       "      <td>...</td>\n",
       "      <td>...</td>\n",
       "      <td>...</td>\n",
       "      <td>...</td>\n",
       "      <td>...</td>\n",
       "      <td>...</td>\n",
       "      <td>...</td>\n",
       "      <td>...</td>\n",
       "      <td>...</td>\n",
       "      <td>...</td>\n",
       "      <td>...</td>\n",
       "    </tr>\n",
       "    <tr>\n",
       "      <th>TTTGTTGAGGCTCCCA-1</th>\n",
       "      <td>495</td>\n",
       "      <td>6.206576</td>\n",
       "      <td>997.0</td>\n",
       "      <td>6.905753</td>\n",
       "      <td>44.433300</td>\n",
       "      <td>997.0</td>\n",
       "      <td>10.0</td>\n",
       "      <td>2.397895</td>\n",
       "      <td>1.003009</td>\n",
       "      <td>20.0</td>\n",
       "      <td>...</td>\n",
       "      <td>post-tumor</td>\n",
       "      <td>western Diet</td>\n",
       "      <td>48 weeks</td>\n",
       "      <td>5</td>\n",
       "      <td>0</td>\n",
       "      <td>1</td>\n",
       "      <td>Kupffer cells</td>\n",
       "      <td>36</td>\n",
       "      <td>Kupffer cells</td>\n",
       "      <td>0.012588</td>\n",
       "    </tr>\n",
       "    <tr>\n",
       "      <th>TTTGTTGAGGTTCCAT-1</th>\n",
       "      <td>4236</td>\n",
       "      <td>8.351611</td>\n",
       "      <td>14285.0</td>\n",
       "      <td>9.567036</td>\n",
       "      <td>14.467698</td>\n",
       "      <td>14287.0</td>\n",
       "      <td>202.0</td>\n",
       "      <td>5.313206</td>\n",
       "      <td>1.414071</td>\n",
       "      <td>77.0</td>\n",
       "      <td>...</td>\n",
       "      <td>post-tumor</td>\n",
       "      <td>western Diet</td>\n",
       "      <td>48 weeks</td>\n",
       "      <td>5</td>\n",
       "      <td>0</td>\n",
       "      <td>6</td>\n",
       "      <td>Hepatocytes</td>\n",
       "      <td>32</td>\n",
       "      <td>Hepatocytes</td>\n",
       "      <td>0.998053</td>\n",
       "    </tr>\n",
       "    <tr>\n",
       "      <th>TTTGTTGAGGTTCTTG-1</th>\n",
       "      <td>4376</td>\n",
       "      <td>8.384119</td>\n",
       "      <td>14700.0</td>\n",
       "      <td>9.595671</td>\n",
       "      <td>13.136054</td>\n",
       "      <td>14700.0</td>\n",
       "      <td>44.0</td>\n",
       "      <td>3.806663</td>\n",
       "      <td>0.299320</td>\n",
       "      <td>60.0</td>\n",
       "      <td>...</td>\n",
       "      <td>post-tumor</td>\n",
       "      <td>western Diet</td>\n",
       "      <td>48 weeks</td>\n",
       "      <td>5</td>\n",
       "      <td>0</td>\n",
       "      <td>6</td>\n",
       "      <td>Hepatocytes</td>\n",
       "      <td>38</td>\n",
       "      <td>Hepatocytes</td>\n",
       "      <td>0.999204</td>\n",
       "    </tr>\n",
       "    <tr>\n",
       "      <th>TTTGTTGCAGTACTAC-1</th>\n",
       "      <td>584</td>\n",
       "      <td>6.371612</td>\n",
       "      <td>1153.0</td>\n",
       "      <td>7.050990</td>\n",
       "      <td>45.099740</td>\n",
       "      <td>1153.0</td>\n",
       "      <td>5.0</td>\n",
       "      <td>1.791759</td>\n",
       "      <td>0.433651</td>\n",
       "      <td>21.0</td>\n",
       "      <td>...</td>\n",
       "      <td>post-tumor</td>\n",
       "      <td>western Diet</td>\n",
       "      <td>48 weeks</td>\n",
       "      <td>5</td>\n",
       "      <td>0</td>\n",
       "      <td>16</td>\n",
       "      <td>B cells</td>\n",
       "      <td>118</td>\n",
       "      <td>B cells</td>\n",
       "      <td>0.058574</td>\n",
       "    </tr>\n",
       "    <tr>\n",
       "      <th>TTTGTTGCATAACAGA-1</th>\n",
       "      <td>285</td>\n",
       "      <td>5.655992</td>\n",
       "      <td>581.0</td>\n",
       "      <td>6.366470</td>\n",
       "      <td>50.430293</td>\n",
       "      <td>581.0</td>\n",
       "      <td>7.0</td>\n",
       "      <td>2.079442</td>\n",
       "      <td>1.204819</td>\n",
       "      <td>3.0</td>\n",
       "      <td>...</td>\n",
       "      <td>post-tumor</td>\n",
       "      <td>western Diet</td>\n",
       "      <td>48 weeks</td>\n",
       "      <td>5</td>\n",
       "      <td>0</td>\n",
       "      <td>7</td>\n",
       "      <td>Hepatocytes</td>\n",
       "      <td>196</td>\n",
       "      <td>Hepatocytes</td>\n",
       "      <td>0.837175</td>\n",
       "    </tr>\n",
       "  </tbody>\n",
       "</table>\n",
       "<p>36821 rows × 26 columns</p>\n",
       "</div>"
      ],
      "text/plain": [
       "                    n_genes_by_counts  log1p_n_genes_by_counts  total_counts  \\\n",
       "AAACCCAGTCCGTTTC-1               1920                 7.560601        4218.0   \n",
       "AAACCCAGTGAAAGTT-1                472                 6.159095         649.0   \n",
       "AAACCCAGTTGCGTAT-1               1505                 7.317212        2513.0   \n",
       "AAACCCATCGTCGACG-1               3548                 8.174421       10445.0   \n",
       "AAACGAAAGAGCATCG-1                588                 6.378426         784.0   \n",
       "...                               ...                      ...           ...   \n",
       "TTTGTTGAGGCTCCCA-1                495                 6.206576         997.0   \n",
       "TTTGTTGAGGTTCCAT-1               4236                 8.351611       14285.0   \n",
       "TTTGTTGAGGTTCTTG-1               4376                 8.384119       14700.0   \n",
       "TTTGTTGCAGTACTAC-1                584                 6.371612        1153.0   \n",
       "TTTGTTGCATAACAGA-1                285                 5.655992         581.0   \n",
       "\n",
       "                    log1p_total_counts  pct_counts_in_top_20_genes  n_counts  \\\n",
       "AAACCCAGTCCGTTTC-1            8.347353                   17.255274    4219.0   \n",
       "AAACCCAGTGAAAGTT-1            6.476973                   18.798151     649.0   \n",
       "AAACCCAGTTGCGTAT-1            7.829630                   15.791567    2514.0   \n",
       "AAACCCATCGTCGACG-1            9.253974                   14.992820   10445.0   \n",
       "AAACGAAAGAGCATCG-1            6.665684                   15.051020     784.0   \n",
       "...                                ...                         ...       ...   \n",
       "TTTGTTGAGGCTCCCA-1            6.905753                   44.433300     997.0   \n",
       "TTTGTTGAGGTTCCAT-1            9.567036                   14.467698   14287.0   \n",
       "TTTGTTGAGGTTCTTG-1            9.595671                   13.136054   14700.0   \n",
       "TTTGTTGCAGTACTAC-1            7.050990                   45.099740    1153.0   \n",
       "TTTGTTGCATAACAGA-1            6.366470                   50.430293     581.0   \n",
       "\n",
       "                    total_counts_mt  log1p_total_counts_mt  pct_counts_mt  \\\n",
       "AAACCCAGTCCGTTTC-1             31.0               3.465736       0.734945   \n",
       "AAACCCAGTGAAAGTT-1              9.0               2.302585       1.386749   \n",
       "AAACCCAGTTGCGTAT-1              9.0               2.302585       0.358138   \n",
       "AAACCCATCGTCGACG-1             47.0               3.871201       0.449976   \n",
       "AAACGAAAGAGCATCG-1              5.0               1.791759       0.637755   \n",
       "...                             ...                    ...            ...   \n",
       "TTTGTTGAGGCTCCCA-1             10.0               2.397895       1.003009   \n",
       "TTTGTTGAGGTTCCAT-1            202.0               5.313206       1.414071   \n",
       "TTTGTTGAGGTTCTTG-1             44.0               3.806663       0.299320   \n",
       "TTTGTTGCAGTACTAC-1              5.0               1.791759       0.433651   \n",
       "TTTGTTGCATAACAGA-1              7.0               2.079442       1.204819   \n",
       "\n",
       "                    total_counts_ribo  ...       Group           Diet  \\\n",
       "AAACCCAGTCCGTTTC-1               26.0  ...     control      chow diet   \n",
       "AAACCCAGTGAAAGTT-1                8.0  ...     control      chow diet   \n",
       "AAACCCAGTTGCGTAT-1                9.0  ...     control      chow diet   \n",
       "AAACCCATCGTCGACG-1               36.0  ...     control      chow diet   \n",
       "AAACGAAAGAGCATCG-1                4.0  ...     control      chow diet   \n",
       "...                               ...  ...         ...            ...   \n",
       "TTTGTTGAGGCTCCCA-1               20.0  ...  post-tumor   western Diet   \n",
       "TTTGTTGAGGTTCCAT-1               77.0  ...  post-tumor   western Diet   \n",
       "TTTGTTGAGGTTCTTG-1               60.0  ...  post-tumor   western Diet   \n",
       "TTTGTTGCAGTACTAC-1               21.0  ...  post-tumor   western Diet   \n",
       "TTTGTTGCATAACAGA-1                3.0  ...  post-tumor   western Diet   \n",
       "\n",
       "                        Time  _scvi_batch  _scvi_labels leiden  \\\n",
       "AAACCCAGTCCGTTTC-1  40 weeks            0             0      0   \n",
       "AAACCCAGTGAAAGTT-1  40 weeks            0             0      1   \n",
       "AAACCCAGTTGCGTAT-1  40 weeks            0             0      4   \n",
       "AAACCCATCGTCGACG-1  40 weeks            0             0     10   \n",
       "AAACGAAAGAGCATCG-1  40 weeks            0             0      0   \n",
       "...                      ...          ...           ...    ...   \n",
       "TTTGTTGAGGCTCCCA-1  48 weeks            5             0      1   \n",
       "TTTGTTGAGGTTCCAT-1  48 weeks            5             0      6   \n",
       "TTTGTTGAGGTTCTTG-1  48 weeks            5             0      6   \n",
       "TTTGTTGCAGTACTAC-1  48 weeks            5             0     16   \n",
       "TTTGTTGCATAACAGA-1  48 weeks            5             0      7   \n",
       "\n",
       "                   predicted_labels over_clustering majority_voting  \\\n",
       "AAACCCAGTCCGTTTC-1      Hepatocytes             198     Hepatocytes   \n",
       "AAACCCAGTGAAAGTT-1      Hepatocytes             142     Hepatocytes   \n",
       "AAACCCAGTTGCGTAT-1      Fibroblasts               6     Fibroblasts   \n",
       "AAACCCATCGTCGACG-1      Hepatocytes              28     Hepatocytes   \n",
       "AAACGAAAGAGCATCG-1      Hepatocytes             214     Hepatocytes   \n",
       "...                             ...             ...             ...   \n",
       "TTTGTTGAGGCTCCCA-1    Kupffer cells              36   Kupffer cells   \n",
       "TTTGTTGAGGTTCCAT-1      Hepatocytes              32     Hepatocytes   \n",
       "TTTGTTGAGGTTCTTG-1      Hepatocytes              38     Hepatocytes   \n",
       "TTTGTTGCAGTACTAC-1          B cells             118         B cells   \n",
       "TTTGTTGCATAACAGA-1      Hepatocytes             196     Hepatocytes   \n",
       "\n",
       "                    conf_score  \n",
       "AAACCCAGTCCGTTTC-1    0.825969  \n",
       "AAACCCAGTGAAAGTT-1    0.039303  \n",
       "AAACCCAGTTGCGTAT-1    1.000000  \n",
       "AAACCCATCGTCGACG-1    0.995105  \n",
       "AAACGAAAGAGCATCG-1    0.182756  \n",
       "...                        ...  \n",
       "TTTGTTGAGGCTCCCA-1    0.012588  \n",
       "TTTGTTGAGGTTCCAT-1    0.998053  \n",
       "TTTGTTGAGGTTCTTG-1    0.999204  \n",
       "TTTGTTGCAGTACTAC-1    0.058574  \n",
       "TTTGTTGCATAACAGA-1    0.837175  \n",
       "\n",
       "[36821 rows x 26 columns]"
      ]
     },
     "execution_count": 45,
     "metadata": {},
     "output_type": "execute_result"
    }
   ],
   "source": [
    "adata.obs"
   ]
  },
  {
   "cell_type": "code",
   "execution_count": 47,
   "id": "a350eab0-b464-41e5-8496-79c55ae64eed",
   "metadata": {},
   "outputs": [],
   "source": [
    "adata.obs[\"CellType\"] = adata.obs[\"majority_voting\"]"
   ]
  },
  {
   "cell_type": "code",
   "execution_count": 49,
   "id": "1c0ebc91-84f8-4552-a9f0-087c5c7688af",
   "metadata": {},
   "outputs": [],
   "source": [
    "adata = adata.raw.to_adata()"
   ]
  },
  {
   "cell_type": "code",
   "execution_count": 51,
   "id": "fa7a0a65-c73b-487a-884f-0ab5bc81d44d",
   "metadata": {},
   "outputs": [],
   "source": [
    "adata.layers[\"counts\"] = adata.X.copy()"
   ]
  },
  {
   "cell_type": "code",
   "execution_count": 53,
   "id": "7552aa93-56cc-4ea1-b8cc-6a7e48a10668",
   "metadata": {},
   "outputs": [],
   "source": [
    "del adata.uns['log1p']"
   ]
  },
  {
   "cell_type": "code",
   "execution_count": 55,
   "id": "42399925-e265-46a6-88ef-ad37f7c06d5a",
   "metadata": {},
   "outputs": [],
   "source": [
    "sc.pp.normalize_total(adata, target_sum = 1e4)"
   ]
  },
  {
   "cell_type": "code",
   "execution_count": 57,
   "id": "30bf655f-c4db-466d-833b-feb8503bbaf6",
   "metadata": {},
   "outputs": [],
   "source": [
    "sc.pp.log1p(adata)"
   ]
  },
  {
   "cell_type": "code",
   "execution_count": 59,
   "id": "26dc9cc4-5e65-4c07-a1af-0cbc96cc7256",
   "metadata": {},
   "outputs": [],
   "source": [
    "sc.tl.rank_genes_groups(adata, 'CellType')"
   ]
  },
  {
   "cell_type": "code",
   "execution_count": 60,
   "id": "c8590a9a-cef9-46e2-bfbb-6bd4a85c18f9",
   "metadata": {},
   "outputs": [],
   "source": [
    "adata.layers[\"scvi_normalized\"] = adata.X"
   ]
  },
  {
   "cell_type": "code",
   "execution_count": 63,
   "id": "b180aaec-1718-4b4d-a30e-44d0ba1b61a9",
   "metadata": {},
   "outputs": [],
   "source": [
    "adata.write_h5ad(\"GSE225381\"+'.h5ad')"
   ]
  },
  {
   "cell_type": "code",
   "execution_count": null,
   "id": "8bd5d918-8717-4454-ba82-8e2f26eec497",
   "metadata": {},
   "outputs": [],
   "source": []
  }
 ],
 "metadata": {
  "kernelspec": {
   "display_name": "Python 3 (ipykernel)",
   "language": "python",
   "name": "python3"
  },
  "language_info": {
   "codemirror_mode": {
    "name": "ipython",
    "version": 3
   },
   "file_extension": ".py",
   "mimetype": "text/x-python",
   "name": "python",
   "nbconvert_exporter": "python",
   "pygments_lexer": "ipython3",
   "version": "3.12.4"
  }
 },
 "nbformat": 4,
 "nbformat_minor": 5
}
